{
 "cells": [
  {
   "cell_type": "code",
   "execution_count": null,
   "metadata": {},
   "outputs": [],
   "source": [
    "from generator import DistrictGenerator\n",
    "\n",
    "\n",
    "'''\n",
    "init generator\n",
    " 1st parameter: State to be redistricted. Entered as lowercase state abbreviation\n",
    " 2nd parameter: Standard deviation\n",
    "     Note: The smaller the SD is, the closer districts are in population\n",
    " 3rd parameter: Steps\n",
    "     Note: A higher step number yields better results but also increases\n",
    "           the amount of time the algorithm needs to run.\n",
    "           It is not recommended to exceed 10,000 steps.\n",
    " 4th parameter: Number of maps to display\n",
    " 5th parameter: Option to save generated districts to a shapefile for\n",
    "                later use. Enter True to save False to not save\n",
    " 6th parameter: Specify which optimization metric you want to use.\n",
    "                Polsby-popper (tests compactness) or efficiency-gap\n",
    "                (tests political competitiveness)\n",
    "                Enter \"compact\" for Polsby-popper\n",
    "                OR \"competitiveness\" for efficiency-gap\n",
    "\n",
    "\n",
    "Example:\n",
    "  Generate district maps of Arizona with a deviation of 0.008 and a step size of 1000\n",
    "  use efficiency-gap as the optimization metric and save district maps to a shapefile\n",
    "\n",
    "  my_generator = DistrictGenerator(\"az\", 0.008, 10000, 3, True, \"competitiveness\")\n",
    "'''\n",
    "my_generator = DistrictGenerator(\"ut\", 0.008, 10, 2, False, \"competitiveness\")\n",
    "\n",
    "# generate districts\n",
    "districts = my_generator.run()"
   ]
  }
 ],
 "metadata": {
  "kernelspec": {
   "display_name": ".venv",
   "language": "python",
   "name": "python3"
  },
  "language_info": {
   "codemirror_mode": {
    "name": "ipython",
    "version": 3
   },
   "file_extension": ".py",
   "mimetype": "text/x-python",
   "name": "python",
   "nbconvert_exporter": "python",
   "pygments_lexer": "ipython3",
   "version": "3.11.0"
  }
 },
 "nbformat": 4,
 "nbformat_minor": 2
}
